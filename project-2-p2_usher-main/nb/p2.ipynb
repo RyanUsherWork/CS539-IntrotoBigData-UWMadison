{
 "cells": [
  {
   "cell_type": "code",
   "execution_count": 16,
   "id": "9a44aeb1-04ed-4ba0-8896-cf59594d6bd9",
   "metadata": {
    "editable": true,
    "slideshow": {
     "slide_type": ""
    },
    "tags": []
   },
   "outputs": [],
   "source": [
    "import pandas as pd\n",
    "import torch\n",
    "import numpy as np"
   ]
  },
  {
   "cell_type": "code",
   "execution_count": 17,
   "id": "391dcb9c-8b72-40c7-84d4-b703f69c8273",
   "metadata": {
    "editable": true,
    "slideshow": {
     "slide_type": ""
    },
    "tags": []
   },
   "outputs": [],
   "source": [
    "df_Train = pd.read_csv(\"nb/train.csv\")\n",
    "ds = torch.utils.data.TensorDataset(\n",
    "    torch.tensor(df_Train.loc[:, \"POS_0_9_CP\":\"POS_90_CP\"].values),\n",
    "    torch.tensor(df_Train.loc[:, [\"DTH_CUM_CP\"]].values)\n",
    ")\n",
    "\n",
    "df_test = pd.read_csv(\"nb/test.csv\")\n",
    "ds_Test = torch.utils.data.TensorDataset(\n",
    "    torch.tensor(df_test.loc[:, \"POS_0_9_CP\":\"POS_90_CP\"].values),\n",
    "    torch.tensor(df_test.loc[:, [\"DTH_CUM_CP\"]].values)\n",
    ")"
   ]
  },
  {
   "cell_type": "code",
   "execution_count": 18,
   "id": "09dc4cd6-e987-4673-9a99-9cc8c296d316",
   "metadata": {
    "editable": true,
    "slideshow": {
     "slide_type": ""
    },
    "tags": []
   },
   "outputs": [],
   "source": [
    "trainX, trainY = ds[:]\n",
    "testX, testY = ds_Test[:]\n",
    "trainX = trainX.to(torch.float64)\n",
    "trainY = trainY.to(torch.float64)\n",
    "testX = testX.to(torch.float64)\n",
    "testY = testY.to(torch.float64)"
   ]
  },
  {
   "cell_type": "code",
   "execution_count": 19,
   "id": "af2b6e5c-9622-488f-aeca-65d30c3201d6",
   "metadata": {
    "editable": true,
    "slideshow": {
     "slide_type": ""
    },
    "tags": []
   },
   "outputs": [
    {
     "data": {
      "text/plain": [
       "83520"
      ]
     },
     "execution_count": 19,
     "metadata": {},
     "output_type": "execute_result"
    }
   ],
   "source": [
    "#q1\n",
    "row, column = trainX.size()\n",
    "bytes_Used  = row * column * 8\n",
    "bytes_Used"
   ]
  },
  {
   "cell_type": "code",
   "execution_count": 21,
   "id": "e1a215c2-cc54-494f-bd44-3e0c319039d9",
   "metadata": {},
   "outputs": [
    {
     "data": {
      "text/plain": [
       "tensor(0., dtype=torch.float64)"
      ]
     },
     "execution_count": 21,
     "metadata": {},
     "output_type": "execute_result"
    }
   ],
   "source": [
    "#q2\n",
    "X_float16 = trainX.to(torch.float16)\n",
    "newarray = X_float16 - trainX\n",
    "difference = torch.max(newarray)\n",
    "difference"
   ]
  },
  {
   "cell_type": "code",
   "execution_count": null,
   "id": "ab531e41-f729-472f-bc70-484e6aa91558",
   "metadata": {},
   "outputs": [],
   "source": [
    "#q3\n",
    "is_Cuda_Available = torch.cuda.is_available()\n",
    "is_Cuda_Available"
   ]
  },
  {
   "cell_type": "code",
   "execution_count": null,
   "id": "720f2236-8f1c-4174-84ec-a10d5bec09bf",
   "metadata": {
    "editable": true,
    "slideshow": {
     "slide_type": ""
    },
    "tags": []
   },
   "outputs": [],
   "source": [
    "coef = torch.tensor([\n",
    "        [0.0040],\n",
    "        [0.0040],\n",
    "        [0.0040],\n",
    "        [0.0040],\n",
    "        [0.0040],\n",
    "        [0.0040], # POS_50_59_CP\n",
    "        [0.0300], # POS_60_69_CP\n",
    "        [0.0300],\n",
    "        [0.0300],\n",
    "        [0.0300]\n",
    "], dtype=trainX.dtype)\n",
    "coef"
   ]
  },
  {
   "cell_type": "code",
   "execution_count": null,
   "id": "1a1d5077-335a-4c05-80c0-38eadf69f667",
   "metadata": {
    "editable": true,
    "slideshow": {
     "slide_type": ""
    },
    "tags": []
   },
   "outputs": [],
   "source": [
    "#q4\n",
    "number_of_deaths = np.dot(testX[0], coef)\n",
    "number_of_deaths.item()"
   ]
  },
  {
   "cell_type": "code",
   "execution_count": null,
   "id": "03224c63-5719-4794-8c71-d3115cc51c04",
   "metadata": {
    "editable": true,
    "slideshow": {
     "slide_type": ""
    },
    "tags": []
   },
   "outputs": [],
   "source": [
    "print(testX)"
   ]
  },
  {
   "cell_type": "code",
   "execution_count": null,
   "id": "21c35cbd-d915-4c77-bf94-3648d3e61d4f",
   "metadata": {
    "editable": true,
    "slideshow": {
     "slide_type": ""
    },
    "tags": []
   },
   "outputs": [],
   "source": [
    "#q5\n",
    "numberOfPred = 0\n",
    "testXRowSize = testX.size()[0]\n",
    "for i in testX:\n",
    "    numberOfPred += np.dot(i, coef)\n",
    "predictedDeaths = numberOfPred.item()/testXRowSize\n",
    "predictedDeaths"
   ]
  },
  {
   "cell_type": "code",
   "execution_count": null,
   "id": "1e86e049-8450-430b-bdb0-70448b8a76ea",
   "metadata": {
    "editable": true,
    "slideshow": {
     "slide_type": ""
    },
    "tags": []
   },
   "outputs": [],
   "source": [
    "#q6\n",
    "def f(x):\n",
    "    return pow(x,2) - 8*x + 19\n",
    "    \n",
    "x = torch.tensor(0.0, requires_grad = True)\n",
    "y = f(x)\n",
    "float(y)"
   ]
  },
  {
   "cell_type": "code",
   "execution_count": null,
   "id": "abbc6181-9aca-4da9-87a4-168c22cf4e29",
   "metadata": {},
   "outputs": [],
   "source": [
    "#q7\n",
    "optimizer  = torch.optim.SGD([x], lr = 0.1)\n",
    "\n",
    "for epoch in range(100):\n",
    "    y = f(x)\n",
    "    y.backward()\n",
    "    optimizer.step()\n",
    "    optimizer.zero_grad()\n",
    "float(x)"
   ]
  },
  {
   "cell_type": "code",
   "execution_count": null,
   "id": "d539f7d7-f5a6-4088-be97-26ea0cb7f633",
   "metadata": {},
   "outputs": [],
   "source": [
    "#q8\n",
    "loss_fn = torch.nn.MSELoss()\n",
    "batchX, batchY = ds[:]\n",
    "batchX = batchX.to(torch.float64)\n",
    "batchY = batchY.to(torch.float64)\n",
    "\n",
    "coef = torch.zeros((batchX.shape[1], 1), dtype=torch.float64, requires_grad = True)\n",
    "optimizer  = torch.optim.SGD([coef], lr = 0.1)\n",
    "prediction = batchX @ coef\n",
    "loss = loss_fn(prediction, batchY)\n",
    "float(loss)"
   ]
  },
  {
   "cell_type": "code",
   "execution_count": null,
   "id": "1248ebd7-6aa8-4ca3-bb82-ecb3e73419b1",
   "metadata": {},
   "outputs": [],
   "source": [
    "#q9\n",
    "torch.manual_seed(544)\n",
    "ds_9 = torch.utils.data.TensorDataset(trainX, trainY)\n",
    "dl = torch.utils.data.DataLoader(ds_9, batch_size=50, shuffle=True)\n",
    "optimizer_9  = torch.optim.SGD([coef], lr = 0.000002)\n",
    "\n",
    "for epoch in range(500):\n",
    "    for batchX, batchY in dl:\n",
    "        pred_9 = batchX.to(torch.float64) @ coef\n",
    "        loss_9 = loss_fn(pred_9, batchY.to(torch.float64))\n",
    "        loss_9.backward()\n",
    "        optimizer_9.step()\n",
    "        optimizer_9.zero_grad()\n",
    "    X, Y = ds[:]\n",
    "    loss_9 = loss_fn(X.to(torch.float64) @ coef, Y.to(torch.float64))\n",
    "float_loss = float(loss_9)\n",
    "float_loss"
   ]
  },
  {
   "cell_type": "code",
   "execution_count": null,
   "id": "ea619ccd-fab3-43f2-945a-d4798be116b8",
   "metadata": {},
   "outputs": [],
   "source": [
    "#q10\n",
    "X, Y = ds_Test[:]\n",
    "loss_10 = loss_fn(X.to(torch.float64) @ coef, Y.to(torch.float64))\n",
    "float(loss_10)"
   ]
  },
  {
   "cell_type": "code",
   "execution_count": null,
   "id": "85bc97f4-5992-49a4-8dc9-9a0bface4288",
   "metadata": {},
   "outputs": [],
   "source": []
  }
 ],
 "metadata": {
  "kernelspec": {
   "display_name": "Python 3 (ipykernel)",
   "language": "python",
   "name": "python3"
  },
  "language_info": {
   "codemirror_mode": {
    "name": "ipython",
    "version": 3
   },
   "file_extension": ".py",
   "mimetype": "text/x-python",
   "name": "python",
   "nbconvert_exporter": "python",
   "pygments_lexer": "ipython3",
   "version": "3.11.5"
  }
 },
 "nbformat": 4,
 "nbformat_minor": 5
}
